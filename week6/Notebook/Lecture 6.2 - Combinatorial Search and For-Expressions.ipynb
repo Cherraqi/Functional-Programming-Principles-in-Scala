{
 "cells": [
  {
   "cell_type": "code",
   "execution_count": 27,
   "metadata": {},
   "outputs": [
    {
     "data": {
      "text/plain": [
       "isPrime: (n: Int)Boolean\n"
      ]
     },
     "execution_count": 27,
     "metadata": {},
     "output_type": "execute_result"
    }
   ],
   "source": [
    "\n",
    "def isPrime(n: Int): Boolean = {\n",
    "      ( 2 until n) forall (d => n % d != 0)\n",
    "    }"
   ]
  },
  {
   "cell_type": "code",
   "execution_count": 28,
   "metadata": {},
   "outputs": [
    {
     "data": {
      "text/plain": [
       "defined class Person\n",
       "persons: List[Person] = List(Person(Cody,3), Person(Harry,18), Person(Mary,25), Person(John,32))\n"
      ]
     },
     "execution_count": 28,
     "metadata": {},
     "output_type": "execute_result"
    }
   ],
   "source": [
    "/** For-Expression */\n",
    "case class Person(name: String, age: Int) {\n",
    "        def apply(n: String, a: Int) = new Person(n, a)\n",
    "}\n",
    "val persons = List(Person(\"Cody\", 3), Person(\"Harry\", 18), Person(\"Mary\", 25), Person(\"John\", 32))"
   ]
  },
  {
   "cell_type": "code",
   "execution_count": 29,
   "metadata": {},
   "outputs": [
    {
     "data": {
      "text/plain": [
       "res2: List[String] = List(Mary, John)\n"
      ]
     },
     "execution_count": 29,
     "metadata": {},
     "output_type": "execute_result"
    }
   ],
   "source": [
    "persons filter (p => p.age > 20) map (p => p.name)"
   ]
  },
  {
   "cell_type": "code",
   "execution_count": 30,
   "metadata": {},
   "outputs": [
    {
     "data": {
      "text/plain": [
       "res3: List[String] = List(Mary, John)\n"
      ]
     },
     "execution_count": 30,
     "metadata": {},
     "output_type": "execute_result"
    }
   ],
   "source": [
    "//equivalent for expression\n",
    "for(p <- persons if p.age > 20) yield p.name"
   ]
  },
  {
   "cell_type": "code",
   "execution_count": 31,
   "metadata": {},
   "outputs": [
    {
     "data": {
      "text/plain": [
       "scalarProduct: (xs: List[Double], ys: List[Double])Double\n"
      ]
     },
     "execution_count": 31,
     "metadata": {},
     "output_type": "execute_result"
    }
   ],
   "source": [
    "def scalarProduct(xs: List[Double], ys: List[Double]): Double = {\n",
    "      (for((x,y) <- xs zip ys) yield(x*y)).sum\n",
    "} "
   ]
  },
  {
   "cell_type": "code",
   "execution_count": null,
   "metadata": {},
   "outputs": [],
   "source": []
  }
 ],
 "metadata": {
  "kernelspec": {
   "display_name": "spylon-kernel",
   "language": "scala",
   "name": "spylon-kernel"
  },
  "language_info": {
   "codemirror_mode": "text/x-scala",
   "file_extension": ".scala",
   "help_links": [
    {
     "text": "MetaKernel Magics",
     "url": "https://github.com/calysto/metakernel/blob/master/metakernel/magics/README.md"
    }
   ],
   "mimetype": "text/x-scala",
   "name": "scala",
   "pygments_lexer": "scala",
   "version": "0.4.1"
  }
 },
 "nbformat": 4,
 "nbformat_minor": 2
}
