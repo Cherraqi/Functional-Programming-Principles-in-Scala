{
 "cells": [
  {
   "cell_type": "code",
   "execution_count": 1,
   "metadata": {},
   "outputs": [
    {
     "data": {
      "text/plain": [
       "Intitializing Scala interpreter ..."
      ]
     },
     "metadata": {},
     "output_type": "display_data"
    },
    {
     "data": {
      "text/plain": [
       "Spark Web UI available at http://10.62.52.10:4040\n",
       "SparkContext available as 'sc' (version = 2.4.0, master = local[*], app id = local-1542463410156)\n",
       "SparkSession available as 'spark'\n"
      ]
     },
     "metadata": {},
     "output_type": "display_data"
    },
    {
     "name": "stdout",
     "output_type": "stream",
     "text": [
      "2018-11-17 15:03:20 WARN  Utils:66 - Your hostname, cherraqi-X751MJ resolves to a loopback address: 127.0.1.1; using 10.62.52.10 instead (on interface wlp2s0)\n",
      "2018-11-17 15:03:20 WARN  Utils:66 - Set SPARK_LOCAL_IP if you need to bind to another address\n",
      "2018-11-17 15:03:23 WARN  NativeCodeLoader:62 - Unable to load native-hadoop library for your platform... using builtin-java classes where applicable\n"
     ]
    },
    {
     "data": {
      "text/plain": [
       "import scala.io.Source\n"
      ]
     },
     "execution_count": 1,
     "metadata": {},
     "output_type": "execute_result"
    }
   ],
   "source": [
    "import scala.io.Source"
   ]
  },
  {
   "cell_type": "code",
   "execution_count": 8,
   "metadata": {},
   "outputs": [
    {
     "data": {
      "text/plain": [
       "in: scala.io.BufferedSource = non-empty iterator\n"
      ]
     },
     "execution_count": 8,
     "metadata": {},
     "output_type": "execute_result"
    }
   ],
   "source": [
    "val in = Source.fromURL(\"https://lamp.epfl.ch/files/content/sites/lamp/files/teaching/progfun/linuxwords.txt\")"
   ]
  },
  {
   "cell_type": "code",
   "execution_count": 9,
   "metadata": {},
   "outputs": [
    {
     "data": {
      "text/plain": [
       "words: scala.collection.immutable.Stream[String] = Stream(Aarhus, ?)\n"
      ]
     },
     "execution_count": 9,
     "metadata": {},
     "output_type": "execute_result"
    }
   ],
   "source": [
    "val words = in.getLines.toStream filter (word => word forall (chr => chr.isLetter))"
   ]
  },
  {
   "cell_type": "code",
   "execution_count": 10,
   "metadata": {},
   "outputs": [
    {
     "data": {
      "text/plain": [
       "mnem: scala.collection.immutable.Map[Char,String] = Map(8 -> TUV, 4 -> GHI, 9 -> WXYZ, 5 -> JKL, 6 -> MNO, 2 -> ABC, 7 -> PQRS, 3 -> DEF)\n"
      ]
     },
     "execution_count": 10,
     "metadata": {},
     "output_type": "execute_result"
    }
   ],
   "source": [
    "val mnem = Map('2' -> \"ABC\", '3' -> \"DEF\", '4' -> \"GHI\", '5' -> \"JKL\",'6' -> \"MNO\", '7' -> \"PQRS\", '8' -> \"TUV\", '9' -> \"WXYZ\")"
   ]
  },
  {
   "cell_type": "code",
   "execution_count": 12,
   "metadata": {},
   "outputs": [
    {
     "data": {
      "text/plain": [
       "charCode: Map[Char,Char] = Map(E -> 3, X -> 9, N -> 6, T -> 8, Y -> 9, J -> 5, U -> 8, F -> 3, A -> 2, M -> 6, I -> 4, G -> 4, V -> 8, Q -> 7, L -> 5, B -> 2, P -> 7, C -> 2, H -> 4, W -> 9, K -> 5, R -> 7, O -> 6, D -> 3, Z -> 9, S -> 7)\n"
      ]
     },
     "execution_count": 12,
     "metadata": {},
     "output_type": "execute_result"
    }
   ],
   "source": [
    "var charCode: Map[Char, Char] = {\n",
    "      //want to invert that map to go from characters to digit\n",
    "      for {\n",
    "          (digit, str) <- mnem\n",
    "          ltr <- str\n",
    "        } yield ltr -> digit\n",
    "}"
   ]
  },
  {
   "cell_type": "code",
   "execution_count": 13,
   "metadata": {},
   "outputs": [
    {
     "data": {
      "text/plain": [
       "wordCode: (word: String)String\n"
      ]
     },
     "execution_count": 13,
     "metadata": {},
     "output_type": "execute_result"
    }
   ],
   "source": [
    "def wordCode(word: String): String = word.toUpperCase map charCode"
   ]
  },
  {
   "cell_type": "code",
   "execution_count": 14,
   "metadata": {},
   "outputs": [
    {
     "data": {
      "text/plain": [
       "res1: String = 5282\n"
      ]
     },
     "execution_count": 14,
     "metadata": {},
     "output_type": "execute_result"
    }
   ],
   "source": [
    "wordCode(\"JAVA\")"
   ]
  },
  {
   "cell_type": "code",
   "execution_count": 15,
   "metadata": {},
   "outputs": [
    {
     "data": {
      "text/plain": [
       "wordsForNum: Map[String,Seq[String]] = Map(63972278 -> Stream(newscast, ?), 29237638427 -> Stream(cybernetics, ?), 782754448 -> Stream(starlight, ?), 2559464 -> Stream(allying, ?), 862532733 -> Stream(uncleared, ?), 365692259 -> Stream(enjoyably, ?), 868437 -> Stream(unties, ?), 33767833 -> Stream(deportee, ?), 742533 -> Stream(picked, ?), 3364646489 -> Stream(femininity, ?), 3987267346279 -> Stream(extraordinary, ?), 7855397 -> Stream(pulleys, ?), 67846493 -> Stream(optimize, ?), 4723837 -> Stream(grafter, ?), 386583 -> Stream(evolve, ?), 78475464 -> Stream(Stirling, ?), 746459 -> Stream(singly, ?), 847827 -> Stream(vistas, ?), 546637737 -> Stream(lionesses, ?), 28754283 -> Stream(curlicue, ?), 84863372658 -> Stream(thunderbolt, ?), 46767833 -> Stream(imported, ?), 26437464 -> Stream(a..."
      ]
     },
     "execution_count": 15,
     "metadata": {},
     "output_type": "execute_result"
    }
   ],
   "source": [
    "val wordsForNum: Map[String, Seq[String]] = {words groupBy wordCode withDefaultValue Seq()}"
   ]
  },
  {
   "cell_type": "code",
   "execution_count": 19,
   "metadata": {},
   "outputs": [
    {
     "data": {
      "text/plain": [
       "encode: (number: String)Set[List[String]]\n"
      ]
     },
     "execution_count": 19,
     "metadata": {},
     "output_type": "execute_result"
    }
   ],
   "source": [
    "\n",
    "    //e.g., phone number \"7225247386\" should translate to Scala\n",
    "    def encode(number: String): Set[List[String]] = {\n",
    "        if(number.isEmpty) Set(List())\n",
    "        else {\n",
    "            for {\n",
    "            split <- 1 to number.length //a range\n",
    "            word <- wordsForNum(number take split)\n",
    "            rest <- encode(number drop split)\n",
    "            } yield word :: rest\n",
    "        }.toSet\n",
    "} "
   ]
  },
  {
   "cell_type": "code",
   "execution_count": 20,
   "metadata": {},
   "outputs": [
    {
     "data": {
      "text/plain": [
       "res2: Set[List[String]] = Set(List(rack, ah, re, to), List(sack, ah, re, to), List(Scala, ire, to), List(sack, air, fun), List(rack, air, fun), List(rack, bird, to), List(pack, air, fun), List(pack, ah, re, to), List(pack, bird, to), List(Scala, is, fun), List(sack, bird, to))\n"
      ]
     },
     "execution_count": 20,
     "metadata": {},
     "output_type": "execute_result"
    }
   ],
   "source": [
    "encode(\"7225247386\")"
   ]
  },
  {
   "cell_type": "code",
   "execution_count": 22,
   "metadata": {},
   "outputs": [
    {
     "data": {
      "text/plain": [
       "translate: (number: String)Set[String]\n",
       "res3: Set[String] = Set(sack air fun, pack ah re to, pack bird to, Scala ire to, Scala is fun, rack ah re to, pack air fun, sack bird to, rack bird to, sack ah re to, rack air fun)\n"
      ]
     },
     "execution_count": 22,
     "metadata": {},
     "output_type": "execute_result"
    }
   ],
   "source": [
    "def translate(number: String): Set[String] = {\n",
    "    encode(number) map (_ mkString \" \")\n",
    "    } \n",
    "\n",
    "translate(\"7225247386\")\n",
    "    "
   ]
  },
  {
   "cell_type": "code",
   "execution_count": null,
   "metadata": {},
   "outputs": [],
   "source": []
  }
 ],
 "metadata": {
  "kernelspec": {
   "display_name": "spylon-kernel",
   "language": "scala",
   "name": "spylon-kernel"
  },
  "language_info": {
   "codemirror_mode": "text/x-scala",
   "file_extension": ".scala",
   "help_links": [
    {
     "text": "MetaKernel Magics",
     "url": "https://github.com/calysto/metakernel/blob/master/metakernel/magics/README.md"
    }
   ],
   "mimetype": "text/x-scala",
   "name": "scala",
   "pygments_lexer": "scala",
   "version": "0.4.1"
  }
 },
 "nbformat": 4,
 "nbformat_minor": 2
}
