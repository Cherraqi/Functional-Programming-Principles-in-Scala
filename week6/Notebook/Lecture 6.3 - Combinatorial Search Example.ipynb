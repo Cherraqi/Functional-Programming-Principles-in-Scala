{
 "cells": [
  {
   "cell_type": "code",
   "execution_count": 2,
   "metadata": {},
   "outputs": [
    {
     "data": {
      "text/plain": [
       "s: scala.collection.immutable.Set[Int] = Set(5, 1, 6, 2, 3, 4)\n"
      ]
     },
     "execution_count": 2,
     "metadata": {},
     "output_type": "execute_result"
    }
   ],
   "source": [
    "/**sets**/\n",
    "val s=(1 to 6).toSet"
   ]
  },
  {
   "cell_type": "code",
   "execution_count": 6,
   "metadata": {},
   "outputs": [
    {
     "data": {
      "text/plain": [
       "fruit: scala.collection.immutable.Set[String] = Set(apple, banana, pear, orange)\n"
      ]
     },
     "execution_count": 6,
     "metadata": {},
     "output_type": "execute_result"
    }
   ],
   "source": [
    "val fruit=Set(\"apple\",\"banana\",\"pear\",\"orange\")"
   ]
  },
  {
   "cell_type": "code",
   "execution_count": 9,
   "metadata": {},
   "outputs": [
    {
     "data": {
      "text/plain": [
       "res2: scala.collection.immutable.Set[Int] = Set(5, 6, 9, 7, 8, 4)\n"
      ]
     },
     "execution_count": 9,
     "metadata": {},
     "output_type": "execute_result"
    }
   ],
   "source": [
    " s map (_ + 3) // Set(3,4,5,6,7,8) "
   ]
  },
  {
   "cell_type": "code",
   "execution_count": 12,
   "metadata": {},
   "outputs": [
    {
     "data": {
      "text/plain": [
       "res4: scala.collection.immutable.Set[String] = Set(pear)\n"
      ]
     },
     "execution_count": 12,
     "metadata": {},
     "output_type": "execute_result"
    }
   ],
   "source": [
    "fruit filter (_.startsWith(\"pe\"))"
   ]
  },
  {
   "cell_type": "code",
   "execution_count": 13,
   "metadata": {},
   "outputs": [
    {
     "data": {
      "text/plain": [
       "res5: Boolean = true\n"
      ]
     },
     "execution_count": 13,
     "metadata": {},
     "output_type": "execute_result"
    }
   ],
   "source": [
    "s.nonEmpty "
   ]
  },
  {
   "cell_type": "code",
   "execution_count": 17,
   "metadata": {},
   "outputs": [
    {
     "data": {
      "text/plain": [
       "res9: Boolean = true\n"
      ]
     },
     "execution_count": 17,
     "metadata": {},
     "output_type": "execute_result"
    }
   ],
   "source": [
    "fruit contains \"orange\"\n"
   ]
  },
  {
   "cell_type": "code",
   "execution_count": 25,
   "metadata": {},
   "outputs": [
    {
     "data": {
      "text/plain": [
       "import nqueens._\n"
      ]
     },
     "execution_count": 25,
     "metadata": {},
     "output_type": "execute_result"
    }
   ],
   "source": [
    "import nqueens._"
   ]
  },
  {
   "cell_type": "code",
   "execution_count": 28,
   "metadata": {},
   "outputs": [
    {
     "data": {
      "text/plain": [
       "res15: Set[List[Int]] = Set(List(1, 3, 0, 2), List(2, 0, 3, 1))\n"
      ]
     },
     "execution_count": 28,
     "metadata": {},
     "output_type": "execute_result"
    }
   ],
   "source": [
    "queens(4)"
   ]
  },
  {
   "cell_type": "code",
   "execution_count": 33,
   "metadata": {},
   "outputs": [
    {
     "data": {
      "text/plain": [
       "res20: scala.collection.immutable.Set[String] =\n",
       "Set(\"\n",
       "***X *\n",
       "*X ***\n",
       "****X\n",
       "**X **\n",
       "X ****\", \"\n",
       "****X\n",
       "*X ***\n",
       "***X *\n",
       "X ****\n",
       "**X **\", \"\n",
       "X ****\n",
       "***X *\n",
       "*X ***\n",
       "****X\n",
       "**X **\", \"\n",
       "****X\n",
       "**X **\n",
       "X ****\n",
       "***X *\n",
       "*X ***\", \"\n",
       "*X ***\n",
       "****X\n",
       "**X **\n",
       "X ****\n",
       "***X *\", \"\n",
       "*X ***\n",
       "***X *\n",
       "X ****\n",
       "**X **\n",
       "****X \", \"\n",
       "***X *\n",
       "X ****\n",
       "**X **\n",
       "****X\n",
       "*X ***\", \"\n",
       "X ****\n",
       "**X **\n",
       "****X\n",
       "*X ***\n",
       "***X *\", \"\n",
       "**X **\n",
       "X ****\n",
       "***X *\n",
       "*X ***\n",
       "****X \", \"\n",
       "**X **\n",
       "****X\n",
       "*X ***\n",
       "***X *\n",
       "X ****\")\n"
      ]
     },
     "execution_count": 33,
     "metadata": {},
     "output_type": "execute_result"
    }
   ],
   "source": [
    "queens(5) map show "
   ]
  },
  {
   "cell_type": "code",
   "execution_count": null,
   "metadata": {},
   "outputs": [],
   "source": []
  }
 ],
 "metadata": {
  "kernelspec": {
   "display_name": "spylon-kernel",
   "language": "scala",
   "name": "spylon-kernel"
  },
  "language_info": {
   "codemirror_mode": "text/x-scala",
   "file_extension": ".scala",
   "help_links": [
    {
     "text": "MetaKernel Magics",
     "url": "https://github.com/calysto/metakernel/blob/master/metakernel/magics/README.md"
    }
   ],
   "mimetype": "text/x-scala",
   "name": "scala",
   "pygments_lexer": "scala",
   "version": "0.4.1"
  }
 },
 "nbformat": 4,
 "nbformat_minor": 2
}
